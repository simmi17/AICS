{
  "nbformat": 4,
  "nbformat_minor": 0,
  "metadata": {
    "colab": {
      "provenance": [],
      "collapsed_sections": [],
      "authorship_tag": "ABX9TyNvqxM9/QAoc1ZFol1rWDic"
    },
    "kernelspec": {
      "name": "python3",
      "display_name": "Python 3"
    },
    "language_info": {
      "name": "python"
    }
  },
  "cells": [
    {
      "cell_type": "code",
      "execution_count": null,
      "metadata": {
        "colab": {
          "base_uri": "https://localhost:8080/"
        },
        "id": "MU9aNa_wcnGq",
        "outputId": "21dba5d2-3982-4e08-f2a6-db9ecbdc194b"
      },
      "outputs": [
        {
          "output_type": "stream",
          "name": "stdout",
          "text": [
            "['orange', 'banana', 10, 20, 'apple', 30]\n",
            "10\n",
            "apple\n",
            "['orange', 'banana', 10, 20, 'apple', 30, 40]\n",
            "['orange', 'banana', 'kiwi', 10, 20, 'apple', 30, 40]\n",
            "[40, 30, 'apple', 20, 10, 'kiwi', 'banana', 'orange']\n",
            "[30, 'apple', 20, 10, 'kiwi', 'banana', 'orange']\n",
            "[30, 'apple', 20, 10, 'banana', 'orange']\n",
            "['apple', 20, 10]\n",
            "[30, 'apple', 20, 10]\n",
            "[10, 'banana', 'orange']\n",
            "[30, 'apple', 20]\n",
            "['apple', 20, 10]\n"
          ]
        }
      ],
      "source": [
        "#list\n",
        "myList = [\"orange\",\"banana\",10,20,\"apple\",30]\n",
        "print(myList)\n",
        "\n",
        "#accessing an element from the list\n",
        "print(myList[2])\n",
        "#negative indexing\n",
        "print(myList[-2])\n",
        "\n",
        "#adding elements\n",
        "myList.append(40)\n",
        "print(myList)\n",
        "#inserting an element\n",
        "myList.insert(2,\"kiwi\")\n",
        "print(myList)\n",
        "\n",
        "#reversing a list\n",
        "myList.reverse()\n",
        "print(myList)\n",
        "\n",
        "#removing an element\n",
        "myList.remove(40)\n",
        "print(myList)\n",
        "#poping an element\n",
        "myList.pop(4)\n",
        "print(myList)\n",
        "\n",
        "#slicing of a list\n",
        "print(myList[1:4])\n",
        "print(myList[:4])\n",
        "print(myList[3:])\n",
        "#negative slicing\n",
        "print(myList[:-3])\n",
        "print(myList[-5:-2])"
      ]
    },
    {
      "cell_type": "code",
      "source": [
        "#dictionary\n",
        "myDict = {1:\"orange\", 2:\"banana\", 3:\"apple\"}\n",
        "print(myDict)\n",
        "\n",
        "#adding elements\n",
        "myDict[4] = (2,3,4)\n",
        "print(myDict)\n",
        "\n",
        "#acessing element\n",
        "print(myDict[3])\n",
        "print(myDict.get(2))\n",
        "\n",
        "#copying dict\n",
        "myDict2 = myDict.copy()\n",
        "print(myDict2)\n",
        "\n",
        "#accessing keys, items and values\n",
        "print(myDict2.keys())\n",
        "print(myDict2.items())\n",
        "print(myDict2.values())\n",
        "\n",
        "#updating element\n",
        "myDict2.update({3:\"papaya\"})\n",
        "print(myDict2)"
      ],
      "metadata": {
        "id": "eoeQm9pwd_z7",
        "colab": {
          "base_uri": "https://localhost:8080/"
        },
        "outputId": "2f789f25-22a9-47c3-b17c-3a54679e9d6d"
      },
      "execution_count": null,
      "outputs": [
        {
          "output_type": "stream",
          "name": "stdout",
          "text": [
            "{1: 'orange', 2: 'banana', 3: 'apple'}\n",
            "{1: 'orange', 2: 'banana', 3: 'apple', 4: (2, 3, 4)}\n",
            "apple\n",
            "banana\n",
            "{1: 'orange', 2: 'banana', 3: 'apple', 4: (2, 3, 4)}\n",
            "dict_keys([1, 2, 3, 4])\n",
            "dict_items([(1, 'orange'), (2, 'banana'), (3, 'apple'), (4, (2, 3, 4))])\n",
            "dict_values(['orange', 'banana', 'apple', (2, 3, 4)])\n",
            "{1: 'orange', 2: 'banana', 3: 'papaya', 4: (2, 3, 4)}\n"
          ]
        }
      ]
    },
    {
      "cell_type": "code",
      "source": [],
      "metadata": {
        "id": "PElI1HdVvXOl"
      },
      "execution_count": null,
      "outputs": []
    }
  ]
}